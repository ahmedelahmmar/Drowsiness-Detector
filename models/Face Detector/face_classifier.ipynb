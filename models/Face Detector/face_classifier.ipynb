{
 "cells": [
  {
   "cell_type": "markdown",
   "metadata": {},
   "source": [
    "# 0. Import Dependencies"
   ]
  },
  {
   "cell_type": "code",
   "execution_count": 75,
   "metadata": {},
   "outputs": [],
   "source": [
    "import os\n",
    "import cv2\n",
    "import random\n",
    "import numpy as np\n",
    "import skimage as ski\n",
    "\n",
    "from sklearn.model_selection import train_test_split\n",
    "from sklearn.svm import LinearSVC"
   ]
  },
  {
   "cell_type": "markdown",
   "metadata": {},
   "source": [
    "# 1. Prepare Samples"
   ]
  },
  {
   "cell_type": "code",
   "execution_count": 66,
   "metadata": {},
   "outputs": [],
   "source": [
    "positive_samples_dirs = [\"../../datasets/faces/natural_images/person/\", \"../../datasets/faces/images/\"]\n",
    "negative_samples_dirs = [os.path.join(\"../../datasets/faces/natural_images/\", folder) for folder in os.listdir(\"../../datasets/faces/natural_images/\") if folder != \"person\"]\n",
    "\n",
    "positive_samples = []\n",
    "negative_samples = []\n",
    "\n",
    "for dir in negative_samples_dirs: \n",
    "    for image in os.listdir(dir):\n",
    "        negative_samples.append(os.path.join(dir, image))\n",
    "\n",
    "for dir in positive_samples_dirs:\n",
    "    for image in os.listdir(dir):\n",
    "        positive_samples.append(os.path.join(dir, image))"
   ]
  },
  {
   "cell_type": "markdown",
   "metadata": {},
   "source": [
    "# 2. Feature Extraction"
   ]
  },
  {
   "cell_type": "code",
   "execution_count": 67,
   "metadata": {},
   "outputs": [],
   "source": [
    "feature_vector = []\n",
    "label_vector = []\n",
    "\n",
    "win_size = (128, 128) \n",
    "block_size = (16, 16)\n",
    "block_stride = (8, 8)\n",
    "cell_size = (8, 8)\n",
    "num_bins = 9\n",
    "\n",
    "HOG = cv2.HOGDescriptor(win_size, block_size, block_stride, cell_size, num_bins)\n",
    "\n",
    "for image in positive_samples:\n",
    "\n",
    "    img = cv2.resize(cv2.imread(image, 0), win_size)\n",
    "\n",
    "    hog = HOG.compute(img).flatten()\n",
    "    hog /= hog.max()\n",
    "\n",
    "    feature_vector.append(hog)\n",
    "    label_vector.append(1)\n",
    "\n",
    "for image in negative_samples:\n",
    "\n",
    "    img = cv2.resize(cv2.imread(image, 0), win_size)\n",
    "\n",
    "    hog = HOG.compute(img).flatten()\n",
    "    hog /= hog.max()\n",
    "\n",
    "    feature_vector.append(hog)\n",
    "    label_vector.append(0)\n"
   ]
  },
  {
   "cell_type": "markdown",
   "metadata": {},
   "source": [
    "# 3. Train the model"
   ]
  },
  {
   "cell_type": "code",
   "execution_count": 68,
   "metadata": {},
   "outputs": [
    {
     "name": "stderr",
     "output_type": "stream",
     "text": [
      "c:\\Tools\\anaconda3\\Lib\\site-packages\\sklearn\\svm\\_classes.py:32: FutureWarning: The default value of `dual` will change from `True` to `'auto'` in 1.5. Set the value of `dual` explicitly to suppress the warning.\n",
      "  warnings.warn(\n"
     ]
    },
    {
     "name": "stdout",
     "output_type": "stream",
     "text": [
      "Accuracy: 0.885227896760022\n"
     ]
    },
    {
     "name": "stderr",
     "output_type": "stream",
     "text": [
      "c:\\Tools\\anaconda3\\Lib\\site-packages\\sklearn\\svm\\_base.py:1242: ConvergenceWarning: Liblinear failed to converge, increase the number of iterations.\n",
      "  warnings.warn(\n"
     ]
    }
   ],
   "source": [
    "x_train, x_test, y_train, y_test = train_test_split(feature_vector, label_vector, test_size=0.2, random_state=42)\n",
    "\n",
    "face_classifer = LinearSVC().fit(x_train, y_train)\n",
    "\n",
    "score = face_classifer.score(x_test, y_test)\n",
    "print(f\"Accuracy: {score}\")"
   ]
  },
  {
   "cell_type": "markdown",
   "metadata": {},
   "source": [
    "# 4. Real-Time Testing"
   ]
  },
  {
   "cell_type": "code",
   "execution_count": 80,
   "metadata": {},
   "outputs": [],
   "source": [
    "def extract_features(Image) -> list[list]:\n",
    "\n",
    "    gray_frame = cv2.resize(cv2.cvtColor(Image, cv2.COLOR_BGR2GRAY), (128, 128))\n",
    "\n",
    "    hog = HOG.compute(gray_frame).flatten()\n",
    "    \n",
    "    return [hog / hog.max()]\n",
    "\n",
    "\n",
    "camera = cv2.VideoCapture(0)\n",
    "\n",
    "while camera.isOpened():\n",
    "\n",
    "    ret, frame = camera.read()\n",
    "\n",
    "    features = extract_features(frame)\n",
    "\n",
    "    prediction = face_classifer.predict(features)\n",
    "\n",
    "    if prediction == 1:\n",
    "        # Draw a green rectangle if a face is detected\n",
    "        cv2.rectangle(frame, (0, 0), (frame.shape[1], frame.shape[0]), (0, 255, 0), 3)\n",
    "    else:\n",
    "        # Draw a red rectangle if no face is detected\n",
    "        cv2.rectangle(frame, (0, 0), (frame.shape[1], frame.shape[0]), (0, 0, 255), 3)\n",
    "\n",
    "    # Display the frame with the detection result\n",
    "    cv2.imshow('Face Detection', frame)\n",
    "\n",
    "    # Press 'q' to exit the loop\n",
    "    if cv2.waitKey(25) & 0xFF == ord('q'):\n",
    "        break\n",
    "\n",
    "# Release the video capture object and close the OpenCV windows\n",
    "camera.release()\n",
    "cv2.destroyAllWindows()\n"
   ]
  },
  {
   "cell_type": "markdown",
   "metadata": {},
   "source": [
    "# 5. Save the model"
   ]
  },
  {
   "cell_type": "code",
   "execution_count": 78,
   "metadata": {},
   "outputs": [
    {
     "data": {
      "text/plain": [
       "['Face_Classifying_Model_Trial_I.pkl']"
      ]
     },
     "execution_count": 78,
     "metadata": {},
     "output_type": "execute_result"
    }
   ],
   "source": [
    "import joblib\n",
    "\n",
    "joblib.dump(face_classifer, \"Face_Classifying_Model_Trial_I.pkl\")"
   ]
  }
 ],
 "metadata": {
  "kernelspec": {
   "display_name": "base",
   "language": "python",
   "name": "python3"
  },
  "language_info": {
   "codemirror_mode": {
    "name": "ipython",
    "version": 3
   },
   "file_extension": ".py",
   "mimetype": "text/x-python",
   "name": "python",
   "nbconvert_exporter": "python",
   "pygments_lexer": "ipython3",
   "version": "3.11.5"
  }
 },
 "nbformat": 4,
 "nbformat_minor": 2
}
