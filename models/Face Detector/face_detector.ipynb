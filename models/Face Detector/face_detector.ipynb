{
 "cells": [
  {
   "cell_type": "markdown",
   "metadata": {},
   "source": [
    "# 1. Import Dependencies"
   ]
  },
  {
   "cell_type": "code",
   "execution_count": 41,
   "metadata": {},
   "outputs": [],
   "source": [
    "import os\n",
    "import cv2\n",
    "import random\n",
    "import numpy as np\n",
    "import pandas as pd"
   ]
  },
  {
   "cell_type": "markdown",
   "metadata": {},
   "source": [
    "# 2. Data Preparation"
   ]
  },
  {
   "cell_type": "code",
   "execution_count": 42,
   "metadata": {},
   "outputs": [],
   "source": [
    "feature_vector = []\n",
    "target_vector = []\n",
    "\n",
    "df = pd.read_csv(\"../../datasets/faces/faces.csv\")\n",
    "\n",
    "# Remove images with more than one face\n",
    "df = df.groupby('image_name').filter(lambda x: len(x) == 1).reset_index(drop=True)\n",
    "\n",
    "# Shuffle the data frame\n",
    "df = df.sample(frac=1).reset_index(drop=True)\n",
    "\n",
    "FD_FRAME_SIZE = 640\n",
    "DATASET_DIR = \"../../datasets/faces/images\"\n",
    "\n",
    "win_size = (FD_FRAME_SIZE, FD_FRAME_SIZE) \n",
    "block_size = (32, 32)\n",
    "block_stride = (32, 32)\n",
    "cell_size = (8, 8)\n",
    "num_bins = 9\n",
    "\n",
    "HOG = cv2.HOGDescriptor(win_size, block_size, block_stride, cell_size, num_bins)\n"
   ]
  },
  {
   "cell_type": "code",
   "execution_count": 43,
   "metadata": {},
   "outputs": [],
   "source": [
    "for index, image_properties in df.iterrows():\n",
    "\n",
    "    image_path = os.path.join(DATASET_DIR, image_properties[\"image_name\"])\n",
    "\n",
    "    gray_image = cv2.resize(cv2.imread(image_path, 0), win_size)\n",
    "\n",
    "    x0 = int(image_properties[\"x0\"] / image_properties[\"width\"])\n",
    "    x1 = int(image_properties[\"x1\"] / image_properties[\"width\"])\n",
    "    y0 = int(image_properties[\"y0\"] / image_properties[\"height\"])\n",
    "    y1 = int(image_properties[\"y1\"] / image_properties[\"height\"])\n",
    "\n",
    "    normalized_coordinate_vector = [x0, y0, x1, y1]\n",
    "\n",
    "    hog = HOG.compute(gray_image).flatten()\n",
    "    normalized_hog = hog / hog.max()\n",
    "\n",
    "    feature_vector.append(normalized_hog)\n",
    "    target_vector.append(normalized_coordinate_vector)\n",
    "\n",
    "    # bgr_image[y0:y1, x0:x1, 1] = 255\n",
    "\n",
    "    # if gray_image is not None:\n",
    "    #     cv2.imshow(\"Image\", gray_image)\n",
    "    #     cv2.waitKey(0)\n",
    "    #     cv2.destroyAllWindows()\n",
    "\n",
    "    # if index == 10:\n",
    "    #     break"
   ]
  },
  {
   "cell_type": "markdown",
   "metadata": {},
   "source": [
    "# 3. Data Split"
   ]
  },
  {
   "cell_type": "code",
   "execution_count": 44,
   "metadata": {},
   "outputs": [],
   "source": [
    "from sklearn.model_selection import train_test_split\n",
    "\n",
    "x_train, x_test, y_train, y_test = train_test_split(feature_vector, target_vector, test_size=0.05, random_state=42)"
   ]
  },
  {
   "cell_type": "markdown",
   "metadata": {},
   "source": [
    "# 4. Training"
   ]
  },
  {
   "cell_type": "code",
   "execution_count": 45,
   "metadata": {},
   "outputs": [],
   "source": [
    "from sklearn.linear_model import LinearRegression\n",
    "\n",
    "face_detector_model = LinearRegression().fit(x_train, y_train)"
   ]
  },
  {
   "cell_type": "markdown",
   "metadata": {},
   "source": [
    "# 5. Evaluation"
   ]
  },
  {
   "cell_type": "code",
   "execution_count": 46,
   "metadata": {},
   "outputs": [
    {
     "name": "stdout",
     "output_type": "stream",
     "text": [
      "Mean Squared Error: 0.001576518622949081\n"
     ]
    }
   ],
   "source": [
    "from sklearn.metrics import mean_squared_error\n",
    "\n",
    "y_predicted = face_detector_model.predict(x_test)\n",
    "\n",
    "mse = mean_squared_error(y_test, y_predicted)\n",
    "\n",
    "print(f\"Mean Squared Error: {mse}\")"
   ]
  },
  {
   "cell_type": "markdown",
   "metadata": {},
   "source": [
    "# 6. Image Testing"
   ]
  },
  {
   "cell_type": "code",
   "execution_count": 49,
   "metadata": {},
   "outputs": [],
   "source": [
    "test_image = cv2.imread(os.path.join(DATASET_DIR, random.choice(os.listdir(DATASET_DIR))))\n",
    "\n",
    "gray_test_image = cv2.cvtColor(test_image, cv2.COLOR_BGR2GRAY)\n",
    "test_feature = HOG.compute(cv2.resize(gray_test_image, win_size))\n",
    "test_feature /= test_feature.max()\n",
    "\n",
    "[[x0p, y0p, x1p, y1p]] = face_detector_model.predict([test_feature])\n",
    "\n",
    "x0p = int(x0p * test_image.shape[0])\n",
    "x1p = int(x1p * test_image.shape[0])\n",
    "y0p = int(y0p * test_image.shape[1])\n",
    "y1p = int(y1p * test_image.shape[1])\n",
    "\n",
    "test_image[y0p:y1p, x0p:x1p, 1] = 255\n",
    "\n",
    "if test_image is not None:\n",
    "    cv2.imshow(\"Testing\", test_image)\n",
    "    cv2.waitKey(0)\n",
    "    cv2.destroyAllWindows()"
   ]
  },
  {
   "cell_type": "markdown",
   "metadata": {},
   "source": [
    "# 7. Real-Time Testing"
   ]
  },
  {
   "cell_type": "code",
   "execution_count": 59,
   "metadata": {},
   "outputs": [
    {
     "name": "stdout",
     "output_type": "stream",
     "text": [
      "(480, 640, 3)\n"
     ]
    }
   ],
   "source": [
    "# Open the default camera (camera index 0)\n",
    "camera = cv2.VideoCapture(0)\n",
    "\n",
    "while camera.isOpened():\n",
    "    # Capture frame-by-frame\n",
    "    ret, frame = camera.read()\n",
    "\n",
    "    gray_frame = cv2.cvtColor(frame, cv2.COLOR_BGR2GRAY)\n",
    "    frame_features = HOG.compute(cv2.resize(gray_frame, win_size))\n",
    "    normalized_frame_features = frame_features / frame_features.max()\n",
    "\n",
    "    [[x0f, y0f, x1f, y1f]] = face_detector_model.predict([normalized_frame_features])\n",
    "\n",
    "    x0f = int(x0f * frame.shape[0])\n",
    "    x1f = int(x1f * frame.shape[0])\n",
    "    y0f = int(y0f * frame.shape[1])\n",
    "    y1f = int(y1f * frame.shape[1])\n",
    "\n",
    "    frame[y0f:y1f, x0f:x1f, 1] = 255\n",
    "\n",
    "    cv2.imshow('Face Detector', frame)\n",
    "\n",
    "    # Break the loop when 'q' is pressed\n",
    "    if cv2.waitKey(1) & 0xFF == ord('q'):\n",
    "        print(frame.shape)\n",
    "        break\n",
    "\n",
    "# Release the video capture object and close the window\n",
    "camera.release()\n",
    "cv2.destroyAllWindows()"
   ]
  },
  {
   "cell_type": "markdown",
   "metadata": {},
   "source": [
    "# 8. Save the Model"
   ]
  },
  {
   "cell_type": "code",
   "execution_count": 60,
   "metadata": {},
   "outputs": [
    {
     "data": {
      "text/plain": [
       "['Face_Detecting_Model_Trial_I.pkl']"
      ]
     },
     "execution_count": 60,
     "metadata": {},
     "output_type": "execute_result"
    }
   ],
   "source": [
    "import joblib\n",
    "\n",
    "joblib.dump(face_detector_model, \"Face_Detecting_Model_Trial_I.pkl\")"
   ]
  }
 ],
 "metadata": {
  "kernelspec": {
   "display_name": "base",
   "language": "python",
   "name": "python3"
  },
  "language_info": {
   "codemirror_mode": {
    "name": "ipython",
    "version": 3
   },
   "file_extension": ".py",
   "mimetype": "text/x-python",
   "name": "python",
   "nbconvert_exporter": "python",
   "pygments_lexer": "ipython3",
   "version": "3.11.5"
  }
 },
 "nbformat": 4,
 "nbformat_minor": 2
}
