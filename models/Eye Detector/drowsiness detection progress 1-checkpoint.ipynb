{
 "cells": [
  {
   "cell_type": "code",
   "execution_count": 1,
   "id": "eae8ff0f",
   "metadata": {},
   "outputs": [],
   "source": [
    "\n",
    "import cv2\n",
    "import numpy as np\n",
    "\n",
    "def detect_oval_shapes(image_path):\n",
    "    image = cv2.imread(image_path)\n",
    "    gray = cv2.cvtColor(image, cv2.COLOR_BGR2GRAY)\n",
    "    blurred = cv2.GaussianBlur(gray, (5, 5), 0)\n",
    "\n",
    "    edges = cv2.Canny(blurred, 50, 150)\n",
    "\n",
    "    # Find contours in the edged image\n",
    "    contours, _ = cv2.findContours(edges, cv2.RETR_EXTERNAL, cv2.CHAIN_APPROX_SIMPLE)\n",
    "\n",
    "    horizontal_oval_contours = []\n",
    "\n",
    "    # Iterate through contours and approximate shapes\n",
    "    for contour in contours:\n",
    "        epsilon = 0.04 * cv2.arcLength(contour, True)\n",
    "        approx = cv2.approxPolyDP(contour, epsilon, True)\n",
    "\n",
    "        # Check if the contour is approximately oval\n",
    "        if len(approx) >= 7:\n",
    "            (x, y), (ma, Ma), angle = cv2.fitEllipse(contour)\n",
    "            if Ma > ma:  # Ensure the major axis is horizontal\n",
    "                horizontal_oval_contours.append(approx)\n",
    "\n",
    "    return horizontal_oval_contours\n",
    "def draw_oval_around_shapes(image_path):\n",
    "    # Detect oval shapes using contour detection and approximation\n",
    "    horizontal_oval_contours = detect_oval_shapes(image_path)\n",
    "\n",
    "    # Load the image again\n",
    "    image = cv2.imread(image_path)\n",
    "\n",
    "\n",
    "    height, _ = image.shape[:2]\n",
    "\n",
    "    # Draw ellipses around detected oval shapes in the upper half of the image\n",
    "    for contour in horizontal_oval_contours:\n",
    "        ellipse = cv2.fitEllipse(contour)\n",
    "\n",
    "        # Check if the center of the ellipse is in the upper half of the image\n",
    "        if ellipse[0][1] < height / 2:\n",
    "            cv2.ellipse(image, ellipse, (0, 255, 0), 2)\n",
    "\n",
    "\n",
    "    cv2.imshow('eye detection', image)\n",
    "    cv2.waitKey(0)\n",
    "    cv2.destroyAllWindows()\n",
    "\n",
    "\n",
    "image_path = 'person_0000.jpg'\n",
    "draw_oval_around_shapes(image_path)"
   ]
  },
  {
   "cell_type": "code",
   "execution_count": null,
   "id": "6228042d",
   "metadata": {},
   "outputs": [],
   "source": []
  }
 ],
 "metadata": {
  "kernelspec": {
   "display_name": "Python 3 (ipykernel)",
   "language": "python",
   "name": "python3"
  },
  "language_info": {
   "codemirror_mode": {
    "name": "ipython",
    "version": 3
   },
   "file_extension": ".py",
   "mimetype": "text/x-python",
   "name": "python",
   "nbconvert_exporter": "python",
   "pygments_lexer": "ipython3",
   "version": "3.11.3"
  }
 },
 "nbformat": 4,
 "nbformat_minor": 5
}
