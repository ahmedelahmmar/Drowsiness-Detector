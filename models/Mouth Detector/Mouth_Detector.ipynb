{
 "cells": [
  {
   "cell_type": "code",
   "execution_count": 9,
   "id": "0f0fa72e",
   "metadata": {
    "scrolled": true
   },
   "outputs": [],
   "source": [
    "import cv2\n",
    "import numpy as np\n",
    "\n",
    "\n",
    "cap = cv2.VideoCapture(0)\n",
    "\n",
    "yawn_counter = 0\n",
    "yawn_threshold = 20 \n",
    "\n",
    "def calculate_mouth_aspect_ratio(mouth):\n",
    "    x, y, w, h = cv2.boundingRect(mouth)\n",
    "    aspect_ratio = w / h\n",
    "    return aspect_ratio\n",
    "\n",
    "while True:\n",
    "    # Capture frame\n",
    "    ret, frame = cap.read()\n",
    "\n",
    "    # Convert the frame to RGB \n",
    "    rgb_frame = cv2.cvtColor(frame, cv2.COLOR_BGR2RGB)\n",
    "\n",
    "    # Define the color range for detecting the mouth in RGB\n",
    "    lower_color = np.array([240, 120, 120], dtype=np.uint8)\n",
    "    upper_color = np.array([255, 245, 245], dtype=np.uint8)\n",
    "\n",
    "    # Create  mask for the mouth region\n",
    "    mouth_mask = cv2.inRange(rgb_frame, lower_color, upper_color)\n",
    "\n",
    "    # Find contours in the mask\n",
    "    contours, _ = cv2.findContours(mouth_mask, cv2.RETR_EXTERNAL, cv2.CHAIN_APPROX_SIMPLE)\n",
    "\n",
    "    for contour in contours:\n",
    "        if cv2.contourArea(contour) > 100:\n",
    "            mouth_aspect_ratio = calculate_mouth_aspect_ratio(contour)\n",
    "\n",
    "            # Check for yawn based on mouth aspect ratio\n",
    "            if mouth_aspect_ratio > yawn_threshold:\n",
    "                yawn_counter += 1\n",
    "                cv2.putText(frame, f'Yawn Count: {yawn_counter}', (10, 30), cv2.FONT_HERSHEY_SIMPLEX, 1, (0, 255, 0), 2,\n",
    "                            cv2.LINE_AA)\n",
    "\n",
    "            cv2.drawContours(frame, [contour], -1, (0, 255, 0), 2)\n",
    "\n",
    "    cv2.imshow('Yawn Detection', frame)\n",
    "\n",
    "    if cv2.waitKey(1) & 0xFF == ord('q'):\n",
    "        break\n",
    "cap.release()\n",
    "cv2.destroyAllWindows()\n"
   ]
  },
  {
   "cell_type": "code",
   "execution_count": null,
   "id": "5c4e5103",
   "metadata": {},
   "outputs": [],
   "source": []
  }
 ],
 "metadata": {
  "kernelspec": {
   "display_name": "Python 3 (ipykernel)",
   "language": "python",
   "name": "python3"
  },
  "language_info": {
   "codemirror_mode": {
    "name": "ipython",
    "version": 3
   },
   "file_extension": ".py",
   "mimetype": "text/x-python",
   "name": "python",
   "nbconvert_exporter": "python",
   "pygments_lexer": "ipython3",
   "version": "3.10.9"
  }
 },
 "nbformat": 4,
 "nbformat_minor": 5
}
