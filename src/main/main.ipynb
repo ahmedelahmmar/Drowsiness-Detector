{
 "cells": [
  {
   "cell_type": "markdown",
   "metadata": {},
   "source": [
    "# 1.Import dependencies"
   ]
  },
  {
   "cell_type": "code",
   "execution_count": 1,
   "metadata": {},
   "outputs": [],
   "source": [
    "import cv2\n",
    "import numpy as np"
   ]
  },
  {
   "cell_type": "markdown",
   "metadata": {},
   "source": [
    "# 2. Import Models"
   ]
  },
  {
   "cell_type": "code",
   "execution_count": 15,
   "metadata": {},
   "outputs": [],
   "source": [
    "import joblib\n",
    "\n",
    "FC_MODEL = joblib.load(\"../../models/Face Detector/FC_F640_A87.pkl\")"
   ]
  },
  {
   "cell_type": "markdown",
   "metadata": {},
   "source": [
    "# 3. Define Helper Functions"
   ]
  },
  {
   "cell_type": "code",
   "execution_count": 16,
   "metadata": {},
   "outputs": [],
   "source": [
    "VIDEO_CAPTURE_FRAME_SIZE = (640, 480)\n",
    "\n",
    "FC_FRAME_SIZE = 640\n",
    "\n",
    "FC_HOG_WIN_SIZE = (FC_FRAME_SIZE, FC_FRAME_SIZE) \n",
    "FC_HOG_BLOCK_SIZE = (32, 32)\n",
    "FC_HOG_BLOCK_STRIDE = (32, 32)\n",
    "FC_HOG_CELL_SIZE = (8, 8)\n",
    "FC_HOG_NUM_BINS = 9\n",
    "\n",
    "\n",
    "FC_HOG = cv2.HOGDescriptor(FC_HOG_WIN_SIZE, FC_HOG_BLOCK_SIZE, FC_HOG_BLOCK_STRIDE, FC_HOG_CELL_SIZE, FC_HOG_NUM_BINS)\n",
    "\n",
    "def extract_features_for_fc(frame) -> list[list]:\n",
    "    \"\"\"\n",
    "    returns the feature vector for the face classifier\n",
    "    \"\"\"\n",
    "    gray_frame = cv2.resize(cv2.cvtColor(frame, cv2.COLOR_BGR2GRAY), FC_HOG_WIN_SIZE)\n",
    "    hog = FC_HOG.compute(gray_frame).flatten() # gray_frame[64:577, 64:577] -> crops the centermost 512x512 window\n",
    "    \n",
    "    return [hog / hog.max()]"
   ]
  },
  {
   "cell_type": "markdown",
   "metadata": {},
   "source": [
    "# 4. Main Application"
   ]
  },
  {
   "cell_type": "code",
   "execution_count": 17,
   "metadata": {},
   "outputs": [
    {
     "name": "stdout",
     "output_type": "stream",
     "text": [
      "(480, 640, 3)\n"
     ]
    }
   ],
   "source": [
    "camera = cv2.VideoCapture(0)\n",
    "\n",
    "while camera.isOpened():\n",
    "\n",
    "    ret, frame = camera.read()\n",
    "\n",
    "    fc_features = extract_features_for_fc(np.copy(frame))\n",
    "\n",
    "    face_in_frame = FC_MODEL.predict(fc_features)\n",
    "\n",
    "    if face_in_frame:\n",
    "        # Draw a green rectangle if a face is detected\n",
    "        cv2.rectangle(frame, (0, 0), (frame.shape[1], frame.shape[0]), (0, 255, 0), 5)\n",
    "    else:\n",
    "        # Draw a red rectangle if no face is detected\n",
    "        cv2.rectangle(frame, (0, 0), (frame.shape[1], frame.shape[0]), (0, 0, 255), 5)\n",
    "    \n",
    "    cv2.imshow(\"Testing\", frame)\n",
    "\n",
    "    if cv2.waitKey(25) & 0xFF == ord('q'): \n",
    "        print(frame.shape)\n",
    "        break # Press 'q' to exit the loop\n",
    "\n",
    "# Release the video capture object and close the OpenCV windows\n",
    "camera.release()\n",
    "cv2.destroyAllWindows()"
   ]
  }
 ],
 "metadata": {
  "kernelspec": {
   "display_name": "base",
   "language": "python",
   "name": "python3"
  },
  "language_info": {
   "codemirror_mode": {
    "name": "ipython",
    "version": 3
   },
   "file_extension": ".py",
   "mimetype": "text/x-python",
   "name": "python",
   "nbconvert_exporter": "python",
   "pygments_lexer": "ipython3",
   "version": "3.11.5"
  }
 },
 "nbformat": 4,
 "nbformat_minor": 2
}
