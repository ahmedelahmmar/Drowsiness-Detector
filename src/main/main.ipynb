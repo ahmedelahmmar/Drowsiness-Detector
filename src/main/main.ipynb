{
 "cells": [
  {
   "cell_type": "markdown",
   "metadata": {},
   "source": [
    "# 1.Import dependencies"
   ]
  },
  {
   "cell_type": "code",
   "execution_count": 3,
   "metadata": {},
   "outputs": [],
   "source": [
    "import cv2\n",
    "import numpy as np"
   ]
  },
  {
   "cell_type": "markdown",
   "metadata": {},
   "source": [
    "# 2. Import Models"
   ]
  },
  {
   "cell_type": "code",
   "execution_count": 4,
   "metadata": {},
   "outputs": [],
   "source": [
    "import joblib\n",
    "\n",
    "FC_MODEL = joblib.load(\"../../models/Face Detector/FC_F640_A87.pkl\")\n",
    "FD_MODEL = joblib.load(\"../../models/Face Detector/Face_Detecting_Model_Trial_I.pkl\")"
   ]
  },
  {
   "cell_type": "markdown",
   "metadata": {},
   "source": [
    "# 3. Define Helper Functions"
   ]
  },
  {
   "cell_type": "code",
   "execution_count": 5,
   "metadata": {},
   "outputs": [],
   "source": [
    "VIDEO_CAPTURE_FRAME_SIZE = (640, 480)\n",
    "\n",
    "FC_FRAME_SIZE = 640\n",
    "FD_FRAME_SIZE = 640\n",
    "\n",
    "FC_HOG_WIN_SIZE = (FC_FRAME_SIZE, FC_FRAME_SIZE) \n",
    "FC_HOG_BLOCK_SIZE = (32, 32)\n",
    "FC_HOG_BLOCK_STRIDE = (32, 32)\n",
    "FC_HOG_CELL_SIZE = (8, 8)\n",
    "FC_HOG_NUM_BINS = 9\n",
    "\n",
    "FC_HOG = cv2.HOGDescriptor(FC_HOG_WIN_SIZE, FC_HOG_BLOCK_SIZE, FC_HOG_BLOCK_STRIDE, FC_HOG_CELL_SIZE, FC_HOG_NUM_BINS)\n",
    "FD_HOG = FC_HOG\n",
    "\n",
    "def extract_features_for_fc(frame) -> list[list]:\n",
    "    \"\"\"\n",
    "    returns the feature vector for the face classifier\n",
    "    \"\"\"\n",
    "    gray_frame = cv2.resize(cv2.cvtColor(frame, cv2.COLOR_BGR2GRAY), (FC_FRAME_SIZE, FC_FRAME_SIZE))\n",
    "    hog = FC_HOG.compute(gray_frame).flatten() # gray_frame[64:577, 64:577] -> crops the centermost 512x512 window\n",
    "    \n",
    "    return [hog / hog.max()]\n",
    "\n",
    "def extract_features_for_fd(frame) -> list[list]:\n",
    "    \"\"\"\n",
    "    returns the feature vector for the face detector\n",
    "    \"\"\"\n",
    "    gray_frame = cv2.resize(cv2.cvtColor(frame, cv2.COLOR_BGR2GRAY), (FD_FRAME_SIZE, FD_FRAME_SIZE))\n",
    "    hog = FD_HOG.compute(gray_frame).flatten() # gray_frame[64:577, 64:577] -> crops the centermost 512x512 window\n",
    "    \n",
    "    return [hog / hog.max()]"
   ]
  },
  {
   "cell_type": "markdown",
   "metadata": {},
   "source": [
    "# 4. Main Application"
   ]
  },
  {
   "cell_type": "code",
   "execution_count": 16,
   "metadata": {},
   "outputs": [
    {
     "name": "stdout",
     "output_type": "stream",
     "text": [
      "(480, 640, 3)\n"
     ]
    }
   ],
   "source": [
    "def detect_faces(image, classifier, threshold=0.5, window_size=(24, 24), stride=4):\n",
    "    detected_faces = []\n",
    "\n",
    "    height, width = image.shape[:2]\n",
    "\n",
    "    # Slide the window over the image\n",
    "    for y in range(0, height - window_size[1] + 1, stride):\n",
    "        for x in range(0, width - window_size[0] + 1, stride):\n",
    "            # Extract the region of interest\n",
    "            roi = image[y:y + window_size[1], x:x + window_size[0]]\n",
    "\n",
    "            # Extract Haar-like features for the region\n",
    "            features = extract_haar_features(roi)  # You need to implement this function\n",
    "\n",
    "            # Use the trained classifier to predict\n",
    "            prediction = classifier.predict_proba([features])[0, 1]\n",
    "\n",
    "            # If the prediction exceeds the threshold, consider it as a face\n",
    "            if prediction > threshold:\n",
    "                detected_faces.append((x, y, window_size[0], window_size[1]))\n",
    "\n",
    "    return detected_faces\n",
    "\n",
    "\n",
    "camera = cv2.VideoCapture(0)\n",
    "\n",
    "while camera.isOpened():\n",
    "\n",
    "    ret, frame = camera.read()\n",
    "\n",
    "    fc_features = extract_features_for_fc(np.copy(frame))\n",
    "\n",
    "    is_face: bool = FC_MODEL.predict(fc_features)\n",
    "\n",
    "    if is_face:\n",
    "\n",
    "        fd_features = extract_features_for_fd(np.copy(frame))\n",
    "        [[x0_face, y0_face, x1_face, y1_face]] = FD_MODEL.predict(fd_features)\n",
    "\n",
    "        x0_face = int(x0_face * frame.shape[0])\n",
    "        y0_face = int(y0_face * frame.shape[1])\n",
    "        x1_face = int(x1_face * frame.shape[0])\n",
    "        y1_face = int(y1_face * frame.shape[1])\n",
    "\n",
    "        # Draw a green rectangle\n",
    "        cv2.rectangle(frame, (y0_face, x0_face), (y1_face, x1_face), (0, 255, 0), 2)\n",
    "    else:\n",
    "        # Draw a red rectangle\n",
    "        cv2.rectangle(frame, (0, 0), (frame.shape[1], frame.shape[0]), (0, 0, 255), 5)\n",
    "\n",
    "    cv2.imshow(\"Stream\", frame)\n",
    "\n",
    "    if cv2.waitKey(25) & 0xFF == ord('q'):\n",
    "        print(frame.shape)\n",
    "        break\n",
    "\n",
    "camera.release()\n",
    "cv2.destroyAllWindows()"
   ]
  }
 ],
 "metadata": {
  "kernelspec": {
   "display_name": "base",
   "language": "python",
   "name": "python3"
  },
  "language_info": {
   "codemirror_mode": {
    "name": "ipython",
    "version": 3
   },
   "file_extension": ".py",
   "mimetype": "text/x-python",
   "name": "python",
   "nbconvert_exporter": "python",
   "pygments_lexer": "ipython3",
   "version": "3.11.5"
  }
 },
 "nbformat": 4,
 "nbformat_minor": 2
}
